{
 "cells": [
  {
   "cell_type": "markdown",
   "metadata": {
    "heading_collapsed": true,
    "tags": []
   },
   "source": [
    "# Outline for Diploma Project, DAS Data Science FHNW\n",
    "---\n",
    "\n",
    "### Patrick Arnecke\n",
    "\n",
    "<br>\n",
    "\n",
    "![](_img/header_bild_01.jpg)\n",
    "<sub><sup>Image credit: Mohammad Metri, unsplash.com</sup></sub>"
   ]
  },
  {
   "cell_type": "markdown",
   "metadata": {
    "heading_collapsed": true,
    "tags": []
   },
   "source": [
    "## Podcast discovery (still) is broken – let’s improve it with NLP and Machine Learning\n",
    "During the last decade, **podcasts have become a hugely popular medium**. As of [April 2021, there are around 2 million podcasts and 48 million episodes available worldwide.](https://www.podcastinsights.com/podcast-statistics/) It is a booming market and a 1 billion+ USD industry with [year-on-year growth of ~10%](https://www.insiderintelligence.com/insights/the-podcast-industry-report-statistics/). \n",
    "\n",
    "Despite its enormous success story, podcasting still is a young and emerging medium. Creators try out and validate best practices day by day. They choose from a wide variety of concepts, formats, composition, and monetization schemes. Users on the other side face **the challenge of discovery: In this vast amount of content – how do I find the right piece** that fits my interest, time frame, and usage context, e.g., chilling, working out, commuting?\n",
    "\n",
    "**Discovery of podcasts is still astonishingly cumbersome and simplistic.** The prevalent ways are rankings and charts, editorial curation, and simple search for topics or people. These are basic forms of content exploration that lack the sophistication of discovery available for video, textual, or music content – think YouTube, Spotify. \n",
    "\n",
    "Another main mode of discovery is [through social media posts and recommendations of friends and family](https://www.edisonresearch.com/the-podcast-consumer-2019/). "
   ]
  },
  {
   "cell_type": "markdown",
   "metadata": {
    "heading_collapsed": true,
    "tags": []
   },
   "source": [
    "## Challenges\n",
    "What is so special about podcasts that makes discovery so hard?\n",
    "\n",
    "Discovery of spoken audio content relies mainly not on the content itself but rather on metadata. Transcription is the first obvious step to make it more accessible. However, only very few creators seem to have the time, resources, or interest to provide these. Users mostly can only search in the metadata the creator provides in the RSS feed, e.g., for a title, a creator, or keywords in the podcast or episode description. \n",
    "\n",
    "Transcription helps but doesn't solve the problem. **Podcasts aren't just text files in audio form.** Podcasting rather is **multimodal medium.** The characters of the hosts and guests, their vocal tonality, the *feeling* of authentic interaction is an essential building block. The listening experience is immersive and intimate. Spoken text is fundamentally different from written (or transcribed) text. Conversations can emerge spontaneously, surprising and unscripted. In many cases spoken content lacks paragraphic and sometimes even sentential boundaries. It can be a continuous flow of thoughts. Verbal phenomena like disfluencies (\"äh\", \"hmmm\" etc.), interruptions, people speaking in parallel aren't just «noise» but rather do contribute to the listening experience and tonality. Music and audio effects too are a very influential facet that cannot be transcribed and processed with regular NLP techniques. \n",
    "\n",
    "While NLP research usually can focus on one domain (e.g., news, medicine, law) and optimize for that, we face a much broader variety of disparate genres, topics and formats. The 2 Mio.+ available podcasts basically entail every imaginable domain.\n",
    "\n",
    "More challenges come from the fact that the [motivations to consume podcasts can be very different].(https://www.edisonresearch.com/the-podcast-consumer-2019/) These can be learning new things, entertainment, staying up-to-date or getting relaxed among many other use cases. Actual or desired search modes vary a lot: E.g. basic catalog search, «tip of the tongue» search (*«I have heard about or listened to a podcast but can't quite remember its title...»*), personalized search that implies varying user tastes for formats, audio quality, affinity for the hosts, voice tonality and contextual factors such as timeframe of consumption (e.g., commute, gym, at home).\n",
    "\n",
    "To boil it down – **how can we possibly incorporate such hetergeneous, multimodal data und varying use cases into a search and recommendation application?**"
   ]
  },
  {
   "cell_type": "markdown",
   "metadata": {
    "heading_collapsed": true,
    "tags": []
   },
   "source": [
    "## Research goal\n",
    "\n",
    "> **My research goal is to improve the search and discovery of podcasts by finding news ways to generate or refine metadata with NLP and machine learning.** \n",
    "\n",
    "Besides standard NLP techniques like LDA and Doc2Vec I want to look at Transformer models as advanced NLP building blocks. Transformer models have become popular in the last years due to their power and effectiveness. One success factor too is that the use of these models has been made much easier by platforms like [Hugging Face](https://huggingface.co/) and open-source projects like [Spacy](https://spacy.io/).  \n",
    "\n",
    "In particular I’d like to look at these methods:\n",
    "- [X] **Topic modeling**\n",
    "- [X] **Document embedding**\n",
    "- [X] **Clustering**\n",
    "- [X] **Named entity recognition**\n",
    "- [X] **Zero shot classification for extracting entirely new labels**"
   ]
  },
  {
   "cell_type": "markdown",
   "metadata": {
    "heading_collapsed": true,
    "tags": []
   },
   "source": [
    "## Data\n",
    "Metadata and raw audio files are available through RSS feeds (which is the standard way of distributing podcasts). Gathering data is possible through platform APIs, e.g., iTunes’ search and Spotify’s podcast API."
   ]
  },
  {
   "cell_type": "markdown",
   "metadata": {
    "heading_collapsed": true,
    "tags": []
   },
   "source": [
    "## Focus area\n",
    "I will focus on podcasts in German language and base my projekt on the German podcast market which is the biggest in the DACH region. "
   ]
  },
  {
   "cell_type": "markdown",
   "metadata": {
    "heading_collapsed": true,
    "tags": []
   },
   "source": [
    "## Relevant research and comparable projects\n",
    "There are a couple of products and services that try to improve podcast discovery, mostly by transcribing episodes. Most of these address the US market and seem to only work for podcasts in English:\n",
    "- [Apple](https://9to5mac.com/2019/06/04/podcasts-ios-13/), [Google](https://searchengineland.com/google-brings-search-to-podcasts-through-automatic-transcription-314798), [Spotify](https://www.theverge.com/2021/5/18/22441886/spotify-podcast-transcription-accessbility-app-update), [Amazon](https://podnews.net/press-release/amazon-music-transcripts), and Facebook have announced and/or launched transcriptions for (some of) the podcast content on their platforms – mostly their exclusive and original shows.\n",
    "- Publishers like Omny Studio [started to look into transcriptions for their creators](https://blog.omnystudio.com/are-transcriptions-the-building-blocks-for-the-future-of-audio-distribution-464e653c2668).\n",
    "- [Some podcasters have begun to transcribe their episodes](https://tim.blog/2018/09/20/all-transcripts-from-the-tim-ferriss-show/) with third-party services like [rev.com](https://www.rev.com/). One minute of transcription costs around 1.25 USD which seems affordable for any podcast with some revenue and average success. However, not many creators seem to invest in the form of accessibility.\n",
    "- [Listen Notes](https://www.listennotes.com/) – The self-proclaimed «Best Podcast Search Engine» aims to provide a service to users, creators, and advertisers alike. From looking at the API documentation I assume that it mostly is used as a B2B service for [a lot of podcast apps](https://www.listennotes.com/api/apps/). Listen Notes enriches metadata mostly by named entity recognition for people, places, and topics.\n",
    "-[Media companies have a vital interest in metadata enrichment for their content.](https://tech.ebu.ch/docs/events/mdn2021/MDN_2021_Programme_detailed.pdf) \n",
    "- Podcast search, discovery, and recommendation are actively researched, see e.g., [this examination  of challenges and future directions in podcast information access](https://arxiv.org/pdf/2106.09227) or [this research project that aims to model Non-textual Characteristics of Podcasts.](https://dl.acm.org/doi/10.1145/3289600.3290993)"
   ]
  }
 ],
 "metadata": {
  "hide_input": false,
  "kernelspec": {
   "display_name": "Python 3 (ipykernel)",
   "language": "python",
   "name": "python3"
  },
  "language_info": {
   "codemirror_mode": {
    "name": "ipython",
    "version": 3
   },
   "file_extension": ".py",
   "mimetype": "text/x-python",
   "name": "python",
   "nbconvert_exporter": "python",
   "pygments_lexer": "ipython3",
   "version": "3.8.12"
  },
  "toc": {
   "base_numbering": 1,
   "nav_menu": {},
   "number_sections": false,
   "sideBar": true,
   "skip_h1_title": false,
   "title_cell": "Table of Contents",
   "title_sidebar": "Contents",
   "toc_cell": false,
   "toc_position": {},
   "toc_section_display": true,
   "toc_window_display": false
  },
  "toc-autonumbering": false,
  "toc-showcode": true,
  "toc-showmarkdowntxt": false
 },
 "nbformat": 4,
 "nbformat_minor": 4
}
